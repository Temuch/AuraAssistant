{
  "nbformat": 4,
  "nbformat_minor": 0,
  "metadata": {
    "colab": {
      "name": "AURAServer.ipynb",
      "provenance": [],
      "collapsed_sections": [],
      "authorship_tag": "ABX9TyOreFf6es8HJZcPhIr97NOF",
      "include_colab_link": true
    },
    "kernelspec": {
      "name": "python3",
      "display_name": "Python 3"
    },
    "language_info": {
      "name": "python"
    }
  },
  "cells": [
    {
      "cell_type": "markdown",
      "metadata": {
        "id": "view-in-github",
        "colab_type": "text"
      },
      "source": [
        "<a href=\"https://colab.research.google.com/github/Temuch/AuraAssistant/blob/main/AURAServer.ipynb\" target=\"_parent\"><img src=\"https://colab.research.google.com/assets/colab-badge.svg\" alt=\"Open In Colab\"/></a>"
      ]
    },
    {
      "cell_type": "markdown",
      "metadata": {
        "id": "q1xpwLGuMvZw"
      },
      "source": [
        "# База данных"
      ]
    },
    {
      "cell_type": "markdown",
      "metadata": {
        "id": "yZuwFA9nM9qp"
      },
      "source": [
        "## Задачи"
      ]
    },
    {
      "cell_type": "code",
      "metadata": {
        "id": "4S3nCpvtNKfw"
      },
      "source": [
        "tasks = [\n",
        "         {\n",
        "            \"name\": \"Разработать дизайн приложения\",\n",
        "            \"status\": \"Работа над календарем\",\n",
        "            \"team\": [\n",
        "                     {\n",
        "                         \"name\": \"Александра Зверева\",\n",
        "                         \"icon\": \"\",\n",
        "                         \"link\": \"t.me/zvendra\"\n",
        "                     }\n",
        "            ]\n",
        "\n",
        "         }\n",
        "]"
      ],
      "execution_count": 67,
      "outputs": []
    },
    {
      "cell_type": "code",
      "metadata": {
        "id": "9kjH0A7Yu9h6"
      },
      "source": [
        "notes = []"
      ],
      "execution_count": 68,
      "outputs": []
    },
    {
      "cell_type": "markdown",
      "metadata": {
        "id": "Vulhs_WANKyl"
      },
      "source": [
        "## Календарь"
      ]
    },
    {
      "cell_type": "code",
      "metadata": {
        "id": "UV2QLBVgNNCi"
      },
      "source": [
        "events = [\n",
        "          {\n",
        "              \"type\": \"event\",\n",
        "              \"name\": \"Встреча с Павлом Ильином\",\n",
        "              \"date\": \"28.11.2021\",\n",
        "              \"timestart\": \"14:00\",\n",
        "              \"timeend\": \"16:00\"\n",
        "          },\n",
        "          {\n",
        "              \"type\": \"event\",\n",
        "              \"date\": \"28.11.2021\",\n",
        "              \"timestart\": \"18:00\",\n",
        "              \"timeend\": \"22:00\",\n",
        "              \"name\": \"Хакатон T1\",\n",
        "              \"result\": \"\"\n",
        "          },\n",
        "          {\n",
        "              \"type\": \"meeting\",\n",
        "              \"date\": \"12.11.2021\",\n",
        "              \"time\": \"12:00\",\n",
        "              \"name\": \"Встреча с представителями Сбера\",\n",
        "              \"result\": \"Подписан договор о сотрудничестве в сфере ИИ\"\n",
        "          }\n",
        "\n",
        "]"
      ],
      "execution_count": 69,
      "outputs": []
    },
    {
      "cell_type": "markdown",
      "metadata": {
        "id": "wuI5aisJMsMA"
      },
      "source": [
        "# Подготовка"
      ]
    },
    {
      "cell_type": "code",
      "metadata": {
        "id": "W3Ox1xiJpcmM"
      },
      "source": [
        "from sklearn.feature_extraction.text import TfidfVectorizer\n",
        "from sklearn.linear_model import LogisticRegression\n",
        "from sklearn.svm import LinearSVC"
      ],
      "execution_count": 70,
      "outputs": []
    },
    {
      "cell_type": "code",
      "metadata": {
        "id": "rK-NiAqdZ49o"
      },
      "source": [
        "from datetime import datetime, date\n",
        "def search_meeting(*args: tuple):\n",
        "    print(\"Looking for a meeting...\")\n",
        "    for event in events:\n",
        "        if event['type'] == \"meeting\":\n",
        "            datelist = events[0][\"date\"].split(\".\")\n",
        "            timestart = events[0][\"timestart\"].split(\":\")\n",
        "            meetingdate = datetime(int(datelist[2]),int(datelist[1]),int(datelist[0]), int(timestart[0]), int(timestart[1]))\n",
        "            if meetingdate > datetime.now():\n",
        "                return \"У Вас назначена \" + event[\"name\"] + \" на \" + event[\"date\"] + \" в \" + event[\"time\"]"
      ],
      "execution_count": 71,
      "outputs": []
    },
    {
      "cell_type": "code",
      "metadata": {
        "id": "G5ZiSf_BoZfT"
      },
      "source": [
        "def search_meeting_result(*args: tuple):\n",
        "    print(\"Looking for a result...\")\n",
        "    for event in events:\n",
        "        if event['type'] == \"meeting\":\n",
        "            datelist = events[0][\"date\"].split(\".\")\n",
        "            timestart = events[0][\"timestart\"].split(\":\")\n",
        "            meetingdate = datetime(int(datelist[2]),int(datelist[1]),int(datelist[0]), int(timestart[0]), int(timestart[1]))\n",
        "            if meetingdate > datetime.now():\n",
        "\n",
        "                if event['result'] == \"\":\n",
        "                    return \"У вас не записан результат встречи\"\n",
        "                else:\n",
        "                    return event[\"name\"] + \" прошла так - \" + event[\"result\"]"
      ],
      "execution_count": 72,
      "outputs": []
    },
    {
      "cell_type": "code",
      "metadata": {
        "id": "-rPfx98IOM7g"
      },
      "source": [
        "def record_meeting_result(res):\n",
        "    print(\"Looking for event...\")\n",
        "    for event in events:\n",
        "        if event['type'] == \"meeting\":\n",
        "            datelist = events[0][\"date\"].split(\".\")\n",
        "            timestart = events[0][\"timestart\"].split(\":\")\n",
        "            meetingdate = datetime(int(datelist[2]),int(datelist[1]),int(datelist[0]), int(timestart[0]), int(timestart[1]))\n",
        "            if meetingdate > datetime.now():\n",
        "                event[\"result\"] = res\n",
        "                return \"Результат записан\""
      ],
      "execution_count": 73,
      "outputs": []
    },
    {
      "cell_type": "code",
      "metadata": {
        "id": "m6qCP87zrmC0"
      },
      "source": [
        "def record_task(*args: tuple):\n",
        "    return \"Задание записано\""
      ],
      "execution_count": 74,
      "outputs": []
    },
    {
      "cell_type": "code",
      "metadata": {
        "id": "VWBqHyQQt14O"
      },
      "source": [
        "def task_last(*args: tuple):\n",
        "    print(\"Looking for task...\")\n",
        "    task = tasks[len(tasks)-1]\n",
        "    return \"Активная задача: \" + task['name']"
      ],
      "execution_count": 75,
      "outputs": []
    },
    {
      "cell_type": "code",
      "metadata": {
        "id": "Feq_kqE5t8bk"
      },
      "source": [
        "def add_note(res):\n",
        "    print(\"Adding note...\")\n",
        "    notes.append(res)\n",
        "    return \"Заметка добавлена\""
      ],
      "execution_count": 76,
      "outputs": []
    },
    {
      "cell_type": "code",
      "metadata": {
        "id": "m3iWwKr7vNa0"
      },
      "source": [
        "def last_note(res):\n",
        "    return \"Последняя заметка: \" + notes[len(notes)-1]"
      ],
      "execution_count": 77,
      "outputs": []
    },
    {
      "cell_type": "code",
      "metadata": {
        "id": "pzXdwYIvLaO8"
      },
      "source": [
        "def failure(*args: tuple):\n",
        "  return \"Не удалось распознать команду\""
      ],
      "execution_count": 78,
      "outputs": []
    },
    {
      "cell_type": "code",
      "metadata": {
        "id": "3m3DUlvcI29S"
      },
      "source": [
        "config = {\n",
        "    \"intents\": {\n",
        "        \"meetings_search\": {\n",
        "            \"examples\": [\"ближайшие встречи\",\n",
        "                         \"какие встречи\",\n",
        "                         \"назначенные встречи\"],\n",
        "            \"responses\": search_meeting\n",
        "        },\n",
        "        \"meetings_result\": {\n",
        "            \"examples\": [\"Как прошла встреча\",\n",
        "                         \"Результат встречи\",\n",
        "                         \"Запиши результат\"],\n",
        "            \"responses\": search_meeting_result\n",
        "        },\n",
        "        \"meeting_record_result\": {\n",
        "            \"examples\": [\"В результате\",\n",
        "                         \"Результат встречи\",\n",
        "                         \"Встреча прошла\"],\n",
        "            \"responses\": record_meeting_result\n",
        "        },\n",
        "        \"task_add\": {\n",
        "            \"examples\": [\"Добавь задачу\"],\n",
        "            \"responses\": record_task\n",
        "        },\n",
        "        \"task_last\": {\n",
        "            \"examples\": [\"Последняя задача\"],\n",
        "            \"responses\": task_last\n",
        "        },\n",
        "        \"add_note\": {\n",
        "            \"examples\": [\"Новая заметка\"],\n",
        "            \"responses\": add_note\n",
        "        },\n",
        "        \"note_last\": {\n",
        "            \"examples\": [\"Мои заметки\"],\n",
        "            \"responses\": last_note\n",
        "        }\n",
        "\n",
        "\n",
        "\n",
        "    },\n",
        "\n",
        "    \"failure_phrases\": failure\n",
        "}"
      ],
      "execution_count": 79,
      "outputs": []
    },
    {
      "cell_type": "code",
      "metadata": {
        "id": "4sFolNOXKezd",
        "colab": {
          "base_uri": "https://localhost:8080/"
        },
        "outputId": "92645f2b-1665-49ef-ccae-d95da0427168"
      },
      "source": [
        "def prepare_corpus():\n",
        "    corpus = []\n",
        "    target_vector = []\n",
        "    for intent_name, intent_data in config[\"intents\"].items():\n",
        "        for example in intent_data[\"examples\"]:\n",
        "            corpus.append(example)\n",
        "            target_vector.append(intent_name)\n",
        "\n",
        "    training_vector = vectorizer.fit_transform(corpus)\n",
        "    classifier_probability.fit(training_vector, target_vector)\n",
        "    classifier.fit(training_vector, target_vector)\n",
        "vectorizer = TfidfVectorizer(analyzer=\"char\", ngram_range=(2, 3))\n",
        "classifier_probability = LogisticRegression()\n",
        "classifier = LinearSVC()\n",
        "prepare_corpus()"
      ],
      "execution_count": 80,
      "outputs": [
        {
          "output_type": "stream",
          "name": "stderr",
          "text": [
            "/usr/local/lib/python3.7/dist-packages/sklearn/linear_model/logistic.py:432: FutureWarning: Default solver will be changed to 'lbfgs' in 0.22. Specify a solver to silence this warning.\n",
            "  FutureWarning)\n",
            "/usr/local/lib/python3.7/dist-packages/sklearn/linear_model/logistic.py:469: FutureWarning: Default multi_class will be changed to 'auto' in 0.22. Specify the multi_class option to silence this warning.\n",
            "  \"this warning.\", FutureWarning)\n"
          ]
        }
      ]
    },
    {
      "cell_type": "code",
      "metadata": {
        "id": "ugfMnYqJMFRl"
      },
      "source": [
        "def get_intent(request):\n",
        "    \"\"\"\n",
        "    Получение наиболее вероятного намерения в зависимости от запроса пользователя\n",
        "    :param request: запрос пользователя\n",
        "    :return: наиболее вероятное намерение\n",
        "    \"\"\"\n",
        "    best_intent = classifier.predict(vectorizer.transform([request]))[0]\n",
        "\n",
        "    index_of_best_intent = list(classifier_probability.classes_).index(best_intent)\n",
        "    probabilities = classifier_probability.predict_proba(vectorizer.transform([request]))[0]\n",
        "\n",
        "    best_intent_probability = probabilities[index_of_best_intent]\n",
        "\n",
        "    print(best_intent_probability)\n",
        "    if best_intent_probability > 0.15:\n",
        "        return best_intent"
      ],
      "execution_count": 93,
      "outputs": []
    },
    {
      "cell_type": "code",
      "metadata": {
        "id": "5BO2WdHVktU-"
      },
      "source": [
        "def get_answer(request):\n",
        "    voice_input_parts = request.split(\" \")\n",
        "\n",
        "    if len(voice_input_parts) == 1:\n",
        "        intent = get_intent(request)\n",
        "        if intent:\n",
        "            ans = config[\"intents\"][intent][\"responses\"]()\n",
        "            return ans\n",
        "        else:\n",
        "            return config[\"failure_phrases\"]()\n",
        "\n",
        "    if len(voice_input_parts) > 1:\n",
        "        for guess in range(1, len(voice_input_parts)):\n",
        "            print((\" \".join(voice_input_parts[0:guess])).strip())\n",
        "            intent = get_intent((\" \".join(voice_input_parts[0:guess])).strip())\n",
        "            print(intent)\n",
        "            if intent:\n",
        "                command_options = \" \".join(voice_input_parts[guess:len(voice_input_parts)])\n",
        "                print(command_options)\n",
        "                ans = config[\"intents\"][intent][\"responses\"](command_options)\n",
        "                answer = returndict(request)\n",
        "                answer[\"answer\"] = ans\n",
        "                return answer\n",
        "                break\n",
        "        return config[\"failure_phrases\"]()"
      ],
      "execution_count": 100,
      "outputs": []
    },
    {
      "cell_type": "markdown",
      "metadata": {
        "id": "xSdHH6-fPG2C"
      },
      "source": [
        "# DeepPavlov integration"
      ]
    },
    {
      "cell_type": "code",
      "metadata": {
        "colab": {
          "base_uri": "https://localhost:8080/"
        },
        "id": "QiYXvT6xvlyT",
        "outputId": "27c7c1f5-1ce8-4b83-d63d-77790945ae42"
      },
      "source": [
        "!pip install transformers"
      ],
      "execution_count": 45,
      "outputs": [
        {
          "output_type": "stream",
          "name": "stdout",
          "text": [
            "Requirement already satisfied: transformers in /usr/local/lib/python3.7/dist-packages (4.12.5)\n",
            "Requirement already satisfied: filelock in /usr/local/lib/python3.7/dist-packages (from transformers) (3.0.12)\n",
            "Requirement already satisfied: packaging>=20.0 in /usr/local/lib/python3.7/dist-packages (from transformers) (21.3)\n",
            "Requirement already satisfied: huggingface-hub<1.0,>=0.1.0 in /usr/local/lib/python3.7/dist-packages (from transformers) (0.1.2)\n",
            "Requirement already satisfied: regex!=2019.12.17 in /usr/local/lib/python3.7/dist-packages (from transformers) (2019.12.20)\n",
            "Requirement already satisfied: sacremoses in /usr/local/lib/python3.7/dist-packages (from transformers) (0.0.35)\n",
            "Requirement already satisfied: importlib-metadata in /usr/local/lib/python3.7/dist-packages (from transformers) (4.8.2)\n",
            "Requirement already satisfied: requests in /usr/local/lib/python3.7/dist-packages (from transformers) (2.22.0)\n",
            "Requirement already satisfied: tqdm>=4.27 in /usr/local/lib/python3.7/dist-packages (from transformers) (4.62.0)\n",
            "Requirement already satisfied: tokenizers<0.11,>=0.10.1 in /usr/local/lib/python3.7/dist-packages (from transformers) (0.10.3)\n",
            "Requirement already satisfied: pyyaml>=5.1 in /usr/local/lib/python3.7/dist-packages (from transformers) (6.0)\n",
            "Requirement already satisfied: numpy>=1.17 in /usr/local/lib/python3.7/dist-packages (from transformers) (1.18.0)\n",
            "Requirement already satisfied: typing-extensions>=3.7.4.3 in /usr/local/lib/python3.7/dist-packages (from huggingface-hub<1.0,>=0.1.0->transformers) (3.10.0.2)\n",
            "Requirement already satisfied: pyparsing!=3.0.5,>=2.0.2 in /usr/local/lib/python3.7/dist-packages (from packaging>=20.0->transformers) (3.0.6)\n",
            "Requirement already satisfied: zipp>=0.5 in /usr/local/lib/python3.7/dist-packages (from importlib-metadata->transformers) (3.6.0)\n",
            "Requirement already satisfied: chardet<3.1.0,>=3.0.2 in /usr/local/lib/python3.7/dist-packages (from requests->transformers) (3.0.4)\n",
            "Requirement already satisfied: idna<2.9,>=2.5 in /usr/local/lib/python3.7/dist-packages (from requests->transformers) (2.8)\n",
            "Requirement already satisfied: certifi>=2017.4.17 in /usr/local/lib/python3.7/dist-packages (from requests->transformers) (2021.10.8)\n",
            "Requirement already satisfied: urllib3!=1.25.0,!=1.25.1,<1.26,>=1.21.1 in /usr/local/lib/python3.7/dist-packages (from requests->transformers) (1.24.3)\n",
            "Requirement already satisfied: joblib in /usr/local/lib/python3.7/dist-packages (from sacremoses->transformers) (1.1.0)\n",
            "Requirement already satisfied: six in /usr/local/lib/python3.7/dist-packages (from sacremoses->transformers) (1.15.0)\n",
            "Requirement already satisfied: click in /usr/local/lib/python3.7/dist-packages (from sacremoses->transformers) (7.1.2)\n"
          ]
        }
      ]
    },
    {
      "cell_type": "code",
      "metadata": {
        "id": "oaMbt1QNPPHE"
      },
      "source": [
        "!pip install deeppavlov"
      ],
      "execution_count": 46,
      "outputs": []
    },
    {
      "cell_type": "code",
      "metadata": {
        "id": "Ad2lxfUDdBnX"
      },
      "source": [
        "from deeppavlov import configs, build_model\n",
        "\n",
        "ner_model = build_model(configs.ner.ner_ontonotes_bert_mult_torch, download=True)"
      ],
      "execution_count": null,
      "outputs": []
    },
    {
      "cell_type": "code",
      "metadata": {
        "id": "pD0zN1ElRcTs"
      },
      "source": [
        "ner_model(['Добавь задачу отправить письмо Александру Ивановичу в 10 00'])"
      ],
      "execution_count": null,
      "outputs": []
    },
    {
      "cell_type": "code",
      "metadata": {
        "id": "iIZJW2Bga0eq"
      },
      "source": [
        "def returndict(inp):\n",
        "    ans = {}\n",
        "    nertokens = ner_model([inp])\n",
        "    print(nertokens)\n",
        "    for i in range(len(nertokens[0][0])):\n",
        "        if str(nertokens[1][0][i]).count(\"PER\") > 0:\n",
        "            if list(ans.keys()).count(\"person\") == 0:\n",
        "                ans['person'] = nertokens[0][0][i]\n",
        "            else:\n",
        "                ans['person'] += \" \" + nertokens[0][0][i]\n",
        "        elif str(nertokens[1][0][i]).count(\"LOC\") > 0 or str(nertokens[1][0][i]).count(\"FAC\") > 0 or str(nertokens[1][0][i]).count(\"GPE\") > 0:\n",
        "            if list(ans.keys()).count(\"location\") == 0:\n",
        "                ans['location'] = nertokens[0][0][i]\n",
        "            else:\n",
        "                ans['location'] += \" \" + nertokens[0][0][i]\n",
        "        elif str(nertokens[1][0][i]).count(\"ORG\") > 0:\n",
        "            if list(ans.keys()).count(\"organisation\") == 0:\n",
        "                ans['organisation'] = nertokens[0][0][i]\n",
        "            else:\n",
        "                ans['organisation'] += \" \" + nertokens[0][0][i]\n",
        "        elif str(nertokens[1][0][i]).count(\"DATE\") > 0:\n",
        "            if list(ans.keys()).count(\"date\") == 0:\n",
        "                ans['date'] = nertokens[0][0][i]\n",
        "            else:\n",
        "                ans['date'] += \" \" + nertokens[0][0][i]\n",
        "        elif str(nertokens[1][0][i]).count(\"TIME\") > 0:\n",
        "            if list(ans.keys()).count(\"time\") == 0:\n",
        "                ans['time'] = nertokens[0][0][i]\n",
        "            else:\n",
        "                ans['time'] += \" \" + nertokens[0][0][i]\n",
        "        elif str(nertokens[1][0][i]).count(\"MONEY\") > 0:\n",
        "            if list(ans.keys()).count(\"money\") == 0:\n",
        "                ans['money'] = nertokens[0][0][i]\n",
        "            else:\n",
        "                ans['money'] += \" \" + nertokens[0][0][i]\n",
        "        elif str(nertokens[1][0][i]).count(\"GPE\") > 0:\n",
        "            if list(ans.keys()).count(\"money\") == 0:\n",
        "                ans['money'] = nertokens[0][0][i]\n",
        "            else:\n",
        "                ans['money'] += \" \" + nertokens[0][0][i]\n",
        "        elif str(nertokens[1][0][i]).count(\"MONEY\") > 0:\n",
        "            if list(ans.keys()).count(\"money\") == 0:\n",
        "                ans['money'] = nertokens[0][0][i]\n",
        "            else:\n",
        "                ans['money'] += \" \" + nertokens[0][0][i]\n",
        "        elif str(nertokens[1][0][i]).count(\"EVENT\") > 0:\n",
        "            if list(ans.keys()).count(\"event\") == 0:\n",
        "                ans['event'] = nertokens[0][0][i]\n",
        "            else:\n",
        "                ans['event'] += \" \" + nertokens[0][0][i]\n",
        "\n",
        "    return ans"
      ],
      "execution_count": 48,
      "outputs": []
    }
  ]
}